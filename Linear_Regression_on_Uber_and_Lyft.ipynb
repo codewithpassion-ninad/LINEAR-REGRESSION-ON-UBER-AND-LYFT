{
  "nbformat": 4,
  "nbformat_minor": 0,
  "metadata": {
    "colab": {
      "provenance": []
    },
    "kernelspec": {
      "name": "python3",
      "display_name": "Python 3"
    },
    "language_info": {
      "name": "python"
    }
  },
  "cells": [
    {
      "cell_type": "code",
      "execution_count": 6,
      "metadata": {
        "colab": {
          "base_uri": "https://localhost:8080/"
        },
        "id": "9k6h3QD_M8Xn",
        "outputId": "6e6f5035-2cc3-4791-9486-a69bf6b3c8bb"
      },
      "outputs": [
        {
          "output_type": "stream",
          "name": "stdout",
          "text": [
            "Drive already mounted at /content/drive; to attempt to forcibly remount, call drive.mount(\"/content/drive\", force_remount=True).\n"
          ]
        }
      ],
      "source": [
        "from google.colab import drive\n",
        "drive.mount('/content/drive')"
      ]
    },
    {
      "cell_type": "code",
      "source": [
        "import numpy as np\n",
        "import pandas as pd\n",
        "import matplotlib.pyplot as plt\n",
        "import seaborn as sns\n",
        "from sklearn.model_selection import GridSearchCV\n",
        "from sklearn.model_selection import train_test_split"
      ],
      "metadata": {
        "id": "NioR95uWNPDV"
      },
      "execution_count": 8,
      "outputs": []
    },
    {
      "cell_type": "code",
      "source": [
        "data = pd.read_csv('/content/drive/MyDrive/GOOGLE COLAB/rideshare_kaggle.csv')\n",
        "train = data.head()\n",
        "train"
      ],
      "metadata": {
        "colab": {
          "base_uri": "https://localhost:8080/",
          "height": 560
        },
        "id": "kBfE9LapaWuO",
        "outputId": "ca838757-fadf-4ccd-f14b-52c38fea0658"
      },
      "execution_count": 12,
      "outputs": [
        {
          "output_type": "execute_result",
          "data": {
            "text/plain": [
              "                                     id     timestamp  hour  day  month  \\\n",
              "0  424553bb-7174-41ea-aeb4-fe06d4f4b9d7  1.544953e+09     9   16     12   \n",
              "1  4bd23055-6827-41c6-b23b-3c491f24e74d  1.543284e+09     2   27     11   \n",
              "2  981a3613-77af-4620-a42a-0c0866077d1e  1.543367e+09     1   28     11   \n",
              "3  c2d88af2-d278-4bfd-a8d0-29ca77cc5512  1.543554e+09     4   30     11   \n",
              "4  e0126e1f-8ca9-4f2e-82b3-50505a09db9a  1.543463e+09     3   29     11   \n",
              "\n",
              "              datetime          timezone            source    destination  \\\n",
              "0  2018-12-16 09:30:07  America/New_York  Haymarket Square  North Station   \n",
              "1  2018-11-27 02:00:23  America/New_York  Haymarket Square  North Station   \n",
              "2  2018-11-28 01:00:22  America/New_York  Haymarket Square  North Station   \n",
              "3  2018-11-30 04:53:02  America/New_York  Haymarket Square  North Station   \n",
              "4  2018-11-29 03:49:20  America/New_York  Haymarket Square  North Station   \n",
              "\n",
              "  cab_type  ... precipIntensityMax uvIndexTime  temperatureMin  \\\n",
              "0     Lyft  ...             0.1276  1544979600           39.89   \n",
              "1     Lyft  ...             0.1300  1543251600           40.49   \n",
              "2     Lyft  ...             0.1064  1543338000           35.36   \n",
              "3     Lyft  ...             0.0000  1543507200           34.67   \n",
              "4     Lyft  ...             0.0001  1543420800           33.10   \n",
              "\n",
              "   temperatureMinTime  temperatureMax  temperatureMaxTime  \\\n",
              "0          1545012000           43.68          1544968800   \n",
              "1          1543233600           47.30          1543251600   \n",
              "2          1543377600           47.55          1543320000   \n",
              "3          1543550400           45.03          1543510800   \n",
              "4          1543402800           42.18          1543420800   \n",
              "\n",
              "   apparentTemperatureMin  apparentTemperatureMinTime  apparentTemperatureMax  \\\n",
              "0                   33.73                  1545012000                   38.07   \n",
              "1                   36.20                  1543291200                   43.92   \n",
              "2                   31.04                  1543377600                   44.12   \n",
              "3                   30.30                  1543550400                   38.53   \n",
              "4                   29.11                  1543392000                   35.75   \n",
              "\n",
              "  apparentTemperatureMaxTime  \n",
              "0                 1544958000  \n",
              "1                 1543251600  \n",
              "2                 1543320000  \n",
              "3                 1543510800  \n",
              "4                 1543420800  \n",
              "\n",
              "[5 rows x 57 columns]"
            ],
            "text/html": [
              "\n",
              "  <div id=\"df-f7dc920c-517b-4e35-9ab1-d0e9404b5e75\">\n",
              "    <div class=\"colab-df-container\">\n",
              "      <div>\n",
              "<style scoped>\n",
              "    .dataframe tbody tr th:only-of-type {\n",
              "        vertical-align: middle;\n",
              "    }\n",
              "\n",
              "    .dataframe tbody tr th {\n",
              "        vertical-align: top;\n",
              "    }\n",
              "\n",
              "    .dataframe thead th {\n",
              "        text-align: right;\n",
              "    }\n",
              "</style>\n",
              "<table border=\"1\" class=\"dataframe\">\n",
              "  <thead>\n",
              "    <tr style=\"text-align: right;\">\n",
              "      <th></th>\n",
              "      <th>id</th>\n",
              "      <th>timestamp</th>\n",
              "      <th>hour</th>\n",
              "      <th>day</th>\n",
              "      <th>month</th>\n",
              "      <th>datetime</th>\n",
              "      <th>timezone</th>\n",
              "      <th>source</th>\n",
              "      <th>destination</th>\n",
              "      <th>cab_type</th>\n",
              "      <th>...</th>\n",
              "      <th>precipIntensityMax</th>\n",
              "      <th>uvIndexTime</th>\n",
              "      <th>temperatureMin</th>\n",
              "      <th>temperatureMinTime</th>\n",
              "      <th>temperatureMax</th>\n",
              "      <th>temperatureMaxTime</th>\n",
              "      <th>apparentTemperatureMin</th>\n",
              "      <th>apparentTemperatureMinTime</th>\n",
              "      <th>apparentTemperatureMax</th>\n",
              "      <th>apparentTemperatureMaxTime</th>\n",
              "    </tr>\n",
              "  </thead>\n",
              "  <tbody>\n",
              "    <tr>\n",
              "      <th>0</th>\n",
              "      <td>424553bb-7174-41ea-aeb4-fe06d4f4b9d7</td>\n",
              "      <td>1.544953e+09</td>\n",
              "      <td>9</td>\n",
              "      <td>16</td>\n",
              "      <td>12</td>\n",
              "      <td>2018-12-16 09:30:07</td>\n",
              "      <td>America/New_York</td>\n",
              "      <td>Haymarket Square</td>\n",
              "      <td>North Station</td>\n",
              "      <td>Lyft</td>\n",
              "      <td>...</td>\n",
              "      <td>0.1276</td>\n",
              "      <td>1544979600</td>\n",
              "      <td>39.89</td>\n",
              "      <td>1545012000</td>\n",
              "      <td>43.68</td>\n",
              "      <td>1544968800</td>\n",
              "      <td>33.73</td>\n",
              "      <td>1545012000</td>\n",
              "      <td>38.07</td>\n",
              "      <td>1544958000</td>\n",
              "    </tr>\n",
              "    <tr>\n",
              "      <th>1</th>\n",
              "      <td>4bd23055-6827-41c6-b23b-3c491f24e74d</td>\n",
              "      <td>1.543284e+09</td>\n",
              "      <td>2</td>\n",
              "      <td>27</td>\n",
              "      <td>11</td>\n",
              "      <td>2018-11-27 02:00:23</td>\n",
              "      <td>America/New_York</td>\n",
              "      <td>Haymarket Square</td>\n",
              "      <td>North Station</td>\n",
              "      <td>Lyft</td>\n",
              "      <td>...</td>\n",
              "      <td>0.1300</td>\n",
              "      <td>1543251600</td>\n",
              "      <td>40.49</td>\n",
              "      <td>1543233600</td>\n",
              "      <td>47.30</td>\n",
              "      <td>1543251600</td>\n",
              "      <td>36.20</td>\n",
              "      <td>1543291200</td>\n",
              "      <td>43.92</td>\n",
              "      <td>1543251600</td>\n",
              "    </tr>\n",
              "    <tr>\n",
              "      <th>2</th>\n",
              "      <td>981a3613-77af-4620-a42a-0c0866077d1e</td>\n",
              "      <td>1.543367e+09</td>\n",
              "      <td>1</td>\n",
              "      <td>28</td>\n",
              "      <td>11</td>\n",
              "      <td>2018-11-28 01:00:22</td>\n",
              "      <td>America/New_York</td>\n",
              "      <td>Haymarket Square</td>\n",
              "      <td>North Station</td>\n",
              "      <td>Lyft</td>\n",
              "      <td>...</td>\n",
              "      <td>0.1064</td>\n",
              "      <td>1543338000</td>\n",
              "      <td>35.36</td>\n",
              "      <td>1543377600</td>\n",
              "      <td>47.55</td>\n",
              "      <td>1543320000</td>\n",
              "      <td>31.04</td>\n",
              "      <td>1543377600</td>\n",
              "      <td>44.12</td>\n",
              "      <td>1543320000</td>\n",
              "    </tr>\n",
              "    <tr>\n",
              "      <th>3</th>\n",
              "      <td>c2d88af2-d278-4bfd-a8d0-29ca77cc5512</td>\n",
              "      <td>1.543554e+09</td>\n",
              "      <td>4</td>\n",
              "      <td>30</td>\n",
              "      <td>11</td>\n",
              "      <td>2018-11-30 04:53:02</td>\n",
              "      <td>America/New_York</td>\n",
              "      <td>Haymarket Square</td>\n",
              "      <td>North Station</td>\n",
              "      <td>Lyft</td>\n",
              "      <td>...</td>\n",
              "      <td>0.0000</td>\n",
              "      <td>1543507200</td>\n",
              "      <td>34.67</td>\n",
              "      <td>1543550400</td>\n",
              "      <td>45.03</td>\n",
              "      <td>1543510800</td>\n",
              "      <td>30.30</td>\n",
              "      <td>1543550400</td>\n",
              "      <td>38.53</td>\n",
              "      <td>1543510800</td>\n",
              "    </tr>\n",
              "    <tr>\n",
              "      <th>4</th>\n",
              "      <td>e0126e1f-8ca9-4f2e-82b3-50505a09db9a</td>\n",
              "      <td>1.543463e+09</td>\n",
              "      <td>3</td>\n",
              "      <td>29</td>\n",
              "      <td>11</td>\n",
              "      <td>2018-11-29 03:49:20</td>\n",
              "      <td>America/New_York</td>\n",
              "      <td>Haymarket Square</td>\n",
              "      <td>North Station</td>\n",
              "      <td>Lyft</td>\n",
              "      <td>...</td>\n",
              "      <td>0.0001</td>\n",
              "      <td>1543420800</td>\n",
              "      <td>33.10</td>\n",
              "      <td>1543402800</td>\n",
              "      <td>42.18</td>\n",
              "      <td>1543420800</td>\n",
              "      <td>29.11</td>\n",
              "      <td>1543392000</td>\n",
              "      <td>35.75</td>\n",
              "      <td>1543420800</td>\n",
              "    </tr>\n",
              "  </tbody>\n",
              "</table>\n",
              "<p>5 rows × 57 columns</p>\n",
              "</div>\n",
              "      <button class=\"colab-df-convert\" onclick=\"convertToInteractive('df-f7dc920c-517b-4e35-9ab1-d0e9404b5e75')\"\n",
              "              title=\"Convert this dataframe to an interactive table.\"\n",
              "              style=\"display:none;\">\n",
              "        \n",
              "  <svg xmlns=\"http://www.w3.org/2000/svg\" height=\"24px\"viewBox=\"0 0 24 24\"\n",
              "       width=\"24px\">\n",
              "    <path d=\"M0 0h24v24H0V0z\" fill=\"none\"/>\n",
              "    <path d=\"M18.56 5.44l.94 2.06.94-2.06 2.06-.94-2.06-.94-.94-2.06-.94 2.06-2.06.94zm-11 1L8.5 8.5l.94-2.06 2.06-.94-2.06-.94L8.5 2.5l-.94 2.06-2.06.94zm10 10l.94 2.06.94-2.06 2.06-.94-2.06-.94-.94-2.06-.94 2.06-2.06.94z\"/><path d=\"M17.41 7.96l-1.37-1.37c-.4-.4-.92-.59-1.43-.59-.52 0-1.04.2-1.43.59L10.3 9.45l-7.72 7.72c-.78.78-.78 2.05 0 2.83L4 21.41c.39.39.9.59 1.41.59.51 0 1.02-.2 1.41-.59l7.78-7.78 2.81-2.81c.8-.78.8-2.07 0-2.86zM5.41 20L4 18.59l7.72-7.72 1.47 1.35L5.41 20z\"/>\n",
              "  </svg>\n",
              "      </button>\n",
              "      \n",
              "  <style>\n",
              "    .colab-df-container {\n",
              "      display:flex;\n",
              "      flex-wrap:wrap;\n",
              "      gap: 12px;\n",
              "    }\n",
              "\n",
              "    .colab-df-convert {\n",
              "      background-color: #E8F0FE;\n",
              "      border: none;\n",
              "      border-radius: 50%;\n",
              "      cursor: pointer;\n",
              "      display: none;\n",
              "      fill: #1967D2;\n",
              "      height: 32px;\n",
              "      padding: 0 0 0 0;\n",
              "      width: 32px;\n",
              "    }\n",
              "\n",
              "    .colab-df-convert:hover {\n",
              "      background-color: #E2EBFA;\n",
              "      box-shadow: 0px 1px 2px rgba(60, 64, 67, 0.3), 0px 1px 3px 1px rgba(60, 64, 67, 0.15);\n",
              "      fill: #174EA6;\n",
              "    }\n",
              "\n",
              "    [theme=dark] .colab-df-convert {\n",
              "      background-color: #3B4455;\n",
              "      fill: #D2E3FC;\n",
              "    }\n",
              "\n",
              "    [theme=dark] .colab-df-convert:hover {\n",
              "      background-color: #434B5C;\n",
              "      box-shadow: 0px 1px 3px 1px rgba(0, 0, 0, 0.15);\n",
              "      filter: drop-shadow(0px 1px 2px rgba(0, 0, 0, 0.3));\n",
              "      fill: #FFFFFF;\n",
              "    }\n",
              "  </style>\n",
              "\n",
              "      <script>\n",
              "        const buttonEl =\n",
              "          document.querySelector('#df-f7dc920c-517b-4e35-9ab1-d0e9404b5e75 button.colab-df-convert');\n",
              "        buttonEl.style.display =\n",
              "          google.colab.kernel.accessAllowed ? 'block' : 'none';\n",
              "\n",
              "        async function convertToInteractive(key) {\n",
              "          const element = document.querySelector('#df-f7dc920c-517b-4e35-9ab1-d0e9404b5e75');\n",
              "          const dataTable =\n",
              "            await google.colab.kernel.invokeFunction('convertToInteractive',\n",
              "                                                     [key], {});\n",
              "          if (!dataTable) return;\n",
              "\n",
              "          const docLinkHtml = 'Like what you see? Visit the ' +\n",
              "            '<a target=\"_blank\" href=https://colab.research.google.com/notebooks/data_table.ipynb>data table notebook</a>'\n",
              "            + ' to learn more about interactive tables.';\n",
              "          element.innerHTML = '';\n",
              "          dataTable['output_type'] = 'display_data';\n",
              "          await google.colab.output.renderOutput(dataTable, element);\n",
              "          const docLink = document.createElement('div');\n",
              "          docLink.innerHTML = docLinkHtml;\n",
              "          element.appendChild(docLink);\n",
              "        }\n",
              "      </script>\n",
              "    </div>\n",
              "  </div>\n",
              "  "
            ]
          },
          "metadata": {},
          "execution_count": 12
        }
      ]
    },
    {
      "cell_type": "code",
      "source": [
        "data.info()"
      ],
      "metadata": {
        "colab": {
          "base_uri": "https://localhost:8080/"
        },
        "id": "FrkHun9IaXPS",
        "outputId": "0e91140b-a386-4ca0-8337-f098bc979cda"
      },
      "execution_count": 13,
      "outputs": [
        {
          "output_type": "stream",
          "name": "stdout",
          "text": [
            "<class 'pandas.core.frame.DataFrame'>\n",
            "RangeIndex: 693071 entries, 0 to 693070\n",
            "Data columns (total 57 columns):\n",
            " #   Column                       Non-Null Count   Dtype  \n",
            "---  ------                       --------------   -----  \n",
            " 0   id                           693071 non-null  object \n",
            " 1   timestamp                    693071 non-null  float64\n",
            " 2   hour                         693071 non-null  int64  \n",
            " 3   day                          693071 non-null  int64  \n",
            " 4   month                        693071 non-null  int64  \n",
            " 5   datetime                     693071 non-null  object \n",
            " 6   timezone                     693071 non-null  object \n",
            " 7   source                       693071 non-null  object \n",
            " 8   destination                  693071 non-null  object \n",
            " 9   cab_type                     693071 non-null  object \n",
            " 10  product_id                   693071 non-null  object \n",
            " 11  name                         693071 non-null  object \n",
            " 12  price                        637976 non-null  float64\n",
            " 13  distance                     693071 non-null  float64\n",
            " 14  surge_multiplier             693071 non-null  float64\n",
            " 15  latitude                     693071 non-null  float64\n",
            " 16  longitude                    693071 non-null  float64\n",
            " 17  temperature                  693071 non-null  float64\n",
            " 18  apparentTemperature          693071 non-null  float64\n",
            " 19  short_summary                693071 non-null  object \n",
            " 20  long_summary                 693071 non-null  object \n",
            " 21  precipIntensity              693071 non-null  float64\n",
            " 22  precipProbability            693071 non-null  float64\n",
            " 23  humidity                     693071 non-null  float64\n",
            " 24  windSpeed                    693071 non-null  float64\n",
            " 25  windGust                     693071 non-null  float64\n",
            " 26  windGustTime                 693071 non-null  int64  \n",
            " 27  visibility                   693071 non-null  float64\n",
            " 28  temperatureHigh              693071 non-null  float64\n",
            " 29  temperatureHighTime          693071 non-null  int64  \n",
            " 30  temperatureLow               693071 non-null  float64\n",
            " 31  temperatureLowTime           693071 non-null  int64  \n",
            " 32  apparentTemperatureHigh      693071 non-null  float64\n",
            " 33  apparentTemperatureHighTime  693071 non-null  int64  \n",
            " 34  apparentTemperatureLow       693071 non-null  float64\n",
            " 35  apparentTemperatureLowTime   693071 non-null  int64  \n",
            " 36  icon                         693071 non-null  object \n",
            " 37  dewPoint                     693071 non-null  float64\n",
            " 38  pressure                     693071 non-null  float64\n",
            " 39  windBearing                  693071 non-null  int64  \n",
            " 40  cloudCover                   693071 non-null  float64\n",
            " 41  uvIndex                      693071 non-null  int64  \n",
            " 42  visibility.1                 693071 non-null  float64\n",
            " 43  ozone                        693071 non-null  float64\n",
            " 44  sunriseTime                  693071 non-null  int64  \n",
            " 45  sunsetTime                   693071 non-null  int64  \n",
            " 46  moonPhase                    693071 non-null  float64\n",
            " 47  precipIntensityMax           693071 non-null  float64\n",
            " 48  uvIndexTime                  693071 non-null  int64  \n",
            " 49  temperatureMin               693071 non-null  float64\n",
            " 50  temperatureMinTime           693071 non-null  int64  \n",
            " 51  temperatureMax               693071 non-null  float64\n",
            " 52  temperatureMaxTime           693071 non-null  int64  \n",
            " 53  apparentTemperatureMin       693071 non-null  float64\n",
            " 54  apparentTemperatureMinTime   693071 non-null  int64  \n",
            " 55  apparentTemperatureMax       693071 non-null  float64\n",
            " 56  apparentTemperatureMaxTime   693071 non-null  int64  \n",
            "dtypes: float64(29), int64(17), object(11)\n",
            "memory usage: 301.4+ MB\n"
          ]
        }
      ]
    },
    {
      "cell_type": "code",
      "source": [
        "plt.xlim(0, 5)\n",
        "plt.ylim(0, 5)\n",
        "plt.scatter(data.distance, data.price)\n",
        "plt.title(\"Scatter Plot\")\n",
        "plt.xlabel(\"distance\")\n",
        "plt.ylabel(\"price\")\n",
        "plt.show()"
      ],
      "metadata": {
        "colab": {
          "base_uri": "https://localhost:8080/",
          "height": 295
        },
        "id": "gf--htaGa1z_",
        "outputId": "a5de269c-fde5-4cd4-c074-dbf18da425de"
      },
      "execution_count": 14,
      "outputs": [
        {
          "output_type": "display_data",
          "data": {
            "text/plain": [
              "<Figure size 432x288 with 1 Axes>"
            ],
            "image/png": "[encoded data removed]"
          },
          "metadata": {
            "needs_background": "light"
          }
        }
      ]
    },
    {
      "cell_type": "code",
      "source": [
        "day=pd.cut(x=data.hour,bins=[0,10,15,19,23],labels = ['Morning', 'Afternoon', 'Evening', 'Night'])\n",
        "plt.title('Day',color='r', fontsize = 20)\n",
        "sns.countplot(x=day)\n",
        "day"
      ],
      "metadata": {
        "colab": {
          "base_uri": "https://localhost:8080/",
          "height": 526
        },
        "id": "f-rq6wxma5Gm",
        "outputId": "f615c33f-a02a-4a87-f320-b691098688f9"
      },
      "execution_count": 15,
      "outputs": [
        {
          "output_type": "execute_result",
          "data": {
            "text/plain": [
              "0         Morning\n",
              "1         Morning\n",
              "2         Morning\n",
              "3         Morning\n",
              "4         Morning\n",
              "           ...   \n",
              "693066      Night\n",
              "693067      Night\n",
              "693068      Night\n",
              "693069      Night\n",
              "693070      Night\n",
              "Name: hour, Length: 693071, dtype: category\n",
              "Categories (4, object): ['Morning' < 'Afternoon' < 'Evening' < 'Night']"
            ]
          },
          "metadata": {},
          "execution_count": 15
        },
        {
          "output_type": "display_data",
          "data": {
            "text/plain": [
              "<Figure size 432x288 with 1 Axes>"
            ],
            "image/png": "[encoded data removed]"
          },
          "metadata": {
            "needs_background": "light"
          }
        }
      ]
    },
    {
      "cell_type": "code",
      "source": [
        "X = data[['hour']]\n",
        "X = np.array(X)\n",
        "X = X.astype(float)\n",
        "y = data[['price']]\n",
        "y = np.array(y)\n",
        "num_features = X.shape[1]\n",
        "w = np.array(np.random.normal(size=num_features))\n",
        "b = np.random.normal(size=1)"
      ],
      "metadata": {
        "id": "DSoi78Hya7X4"
      },
      "execution_count": 16,
      "outputs": []
    },
    {
      "cell_type": "code",
      "source": [
        "def compute_model_output(X, y, w, b):\n",
        "    m = X.shape[0]\n",
        "    f_wb = np.zeros(m)\n",
        "    for i in range(m):\n",
        "        f_wb[i] = w * X[i] + b\n",
        "    return f_wb"
      ],
      "metadata": {
        "id": "jCBsMMixa-aX"
      },
      "execution_count": 17,
      "outputs": []
    },
    {
      "cell_type": "code",
      "source": [
        "prediction = compute_model_output(X, y, w, b)\n",
        "\n",
        "# Plot our model prediction\n",
        "plt.plot(X, prediction, c='g',label='My Prediction')\n",
        "\n",
        "# Plot the data points\n",
        "plt.scatter(X, y, marker='x', c='r',label='Actual Values')\n",
        "\n",
        "# Set the title\n",
        "plt.title(\"Price of ride\")\n",
        "# Set the y-axis label\n",
        "plt.ylabel('Price (in dollars)')\n",
        "# Set the x-axis label\n",
        "plt.xlabel('Collection of data')\n",
        "plt.legend()\n",
        "plt.show()"
      ],
      "metadata": {
        "colab": {
          "base_uri": "https://localhost:8080/",
          "height": 330
        },
        "id": "uR_2_s14bAzX",
        "outputId": "61e098f2-c09f-4593-c533-f798a5c7e61c"
      },
      "execution_count": 18,
      "outputs": [
        {
          "output_type": "stream",
          "name": "stderr",
          "text": [
            "/usr/local/lib/python3.9/dist-packages/IPython/core/pylabtools.py:128: UserWarning: Creating legend with loc=\"best\" can be slow with large amounts of data.\n",
            "  fig.canvas.print_figure(bytes_io, **kw)\n"
          ]
        },
        {
          "output_type": "display_data",
          "data": {
            "text/plain": [
              "<Figure size 432x288 with 1 Axes>"
            ],
            "image/png": "[encoded data removed]"
          },
          "metadata": {
            "needs_background": "light"
          }
        }
      ]
    }
  ]
}